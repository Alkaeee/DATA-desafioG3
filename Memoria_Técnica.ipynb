{
 "cells": [
  {
   "cell_type": "markdown",
   "metadata": {},
   "source": [
    "# Memoria técnica Data Science\n",
    "\n",
    "## Análisis detallado del problema.\n",
    "\n",
    "Se nos presenta la necesidad de crear una WebApp que substituya, y amplie, las funciones de una tabla de excel.\n",
    "Las deficiencias de la manera de trabajo actual son varias:\n",
    "\n",
    "+ Mala escalabilidad. La empresa ha comenzado a tener problemas a la hora de usarla en diferentes situaciones.\n",
    "+ Poco control del trabajo realizado. Enfarragosa manera de guardar historiales.\n",
    "+ Exceso de trabajo por parte del asesor a la hora de introducir datos\n",
    "\n",
    "## Propuesta de solución tecnológica\n",
    "\n",
    "La tarea de suplantar el trabajo realizado por una hoja excel con una WebApp plantea la oportunidad de usar una BBDD relacional, que acabe con los problemas de escalabilidad y registro de históricos. A ello añadimos la posibilidad de obtener datos de forma automatizada, aliviando la carga de trabajo del asesor.\n",
    "\n",
    "+ BBDD SQL Relacional (PostgreSQL)\n",
    "+ Webscrapping (Selenium)\n",
    "+ Scrapeo de PDF e imágenes (OpenCV, PyMuPDF, Regex)\n",
    "\n",
    "\n",
    "# BBDD SQL\n",
    "\n",
    "Una vez analizadas las necesidades de la WebApp para solucionar los problemas actuales, se diseña la BBDD que cumpla las funciones necesarias para el proyecto.\n",
    "Se trata de una BBDD PostreSQL 15.0, preparada para alojarse en la nube Azure. Tiene 12 entidades y 5 relaciones. [Link a la query de creación](/database/sql/create_tables.sql)\n",
    "### Estructura\n",
    "\n",
    "<img src=\"./aux_temp/Esquema.png\" width=\"1900\">\n",
    "\n",
    "[Link para ampliar](https://www.canva.com/design/DAF5e_nv_Bk/PNXGmx8l0Xajcoh2LPONFQ/edit?utm_content=DAF5e_nv_Bk&utm_campaign=designshare&utm_medium=link2&utm_source=sharebutton)\n",
    "\n",
    "### Relación\n",
    "\n",
    "<img src=\"./aux_temp/Diagrama.png\" width=\"1900\">\n",
    "\n",
    "[Link para ampliar](https://www.canva.com/design/DAFy6dl3Pe4/yYekcQiBpDDn7MCyx_-qiw/edit?utm_content=DAFy6dl3Pe4&utm_campaign=designshare&utm_medium=link2&utm_source=sharebutton)\n",
    "\n",
    "# Automatización de extracción de Datos.\n",
    "\n",
    "El flujo del trabajo manual del asesor actual tiene dos tareas penosas en tiempo que son candidatas a ser substituidas por automatismos.\n",
    "Se trata, por un lado,de la obtención de datos desde una intranet a la que se accede vía web, y con un código \"CUPs\" se extraen datos. Y por otro lado, la lectura personal de facturas para obtener datos de consumo y precios.\n",
    "\n",
    "## WebScraping\n",
    "\n",
    "Mediante el uso de la librería Selenium, creamos un script que accede vía web a la información requerida.\n",
    "\n",
    "## Scrapeo de PDF e Imagen\n",
    "\n",
    "\n",
    "\n",
    "\n",
    "\n",
    "BBDD\n",
    "Automatismos de extracción de datos\n",
    "modelo de predicción \n",
    "dashboard"
   ]
  },
  {
   "cell_type": "code",
   "execution_count": null,
   "metadata": {},
   "outputs": [],
   "source": []
  },
  {
   "cell_type": "markdown",
   "metadata": {},
   "source": [
    "# Listado de Librerías usadas y sus importaciones\n",
    "\n",
    "## -----Web Development -----"
   ]
  },
  {
   "cell_type": "code",
   "execution_count": null,
   "metadata": {},
   "outputs": [],
   "source": [
    "from flask import Flask, request, jsonify\n",
    "from flask_limiter import Limiter\n",
    "from flask_cors import CORS, cross_origin\n",
    "from cerberus import Validator\n",
    "from werkzeug.serving import make_server"
   ]
  },
  {
   "cell_type": "markdown",
   "metadata": {},
   "source": [
    "## ----- General Utilities -----"
   ]
  },
  {
   "cell_type": "code",
   "execution_count": null,
   "metadata": {},
   "outputs": [],
   "source": [
    "import os\n",
    "from os import environ\n",
    "import sys\n",
    "import signal\n",
    "import threading\n",
    "from queue import Queue\n",
    "import requests\n",
    "from dotenv import load_dotenv"
   ]
  },
  {
   "cell_type": "markdown",
   "metadata": {},
   "source": [
    "## ----- Custom Functions -----"
   ]
  },
  {
   "cell_type": "code",
   "execution_count": null,
   "metadata": {},
   "outputs": [],
   "source": [
    "import functions"
   ]
  },
  {
   "cell_type": "markdown",
   "metadata": {},
   "source": [
    "## ----- Computer Vision and OCR -----"
   ]
  },
  {
   "cell_type": "code",
   "execution_count": null,
   "metadata": {},
   "outputs": [],
   "source": [
    "import cv2 as cv\n",
    "import easyocr"
   ]
  },
  {
   "cell_type": "markdown",
   "metadata": {},
   "source": [
    "## ----- Database Interaction -----"
   ]
  },
  {
   "cell_type": "code",
   "execution_count": null,
   "metadata": {},
   "outputs": [],
   "source": [
    "import psycopg2\n",
    "from sqlalchemy import create_engine"
   ]
  },
  {
   "cell_type": "markdown",
   "metadata": {},
   "source": [
    "## ----- Web Scraping -----"
   ]
  },
  {
   "cell_type": "code",
   "execution_count": null,
   "metadata": {},
   "outputs": [],
   "source": [
    "from selenium import webdriver\n",
    "from selenium.webdriver.common.by import By\n",
    "from selenium.webdriver.chrome.options import Options\n",
    "from selenium.webdriver.chrome.service import Service"
   ]
  },
  {
   "cell_type": "markdown",
   "metadata": {},
   "source": [
    "## ----- Document Analysis -----"
   ]
  },
  {
   "cell_type": "code",
   "execution_count": null,
   "metadata": {},
   "outputs": [],
   "source": [
    "import fitz\n",
    "from langchain.chains import AnalyzeDocumentChain\n",
    "from langchain.chat_models import ChatOpenAI\n",
    "from langchain.chains.question_answering import load_qa_chain"
   ]
  },
  {
   "cell_type": "markdown",
   "metadata": {},
   "source": [
    "## ----- Time Series Analysis -----"
   ]
  },
  {
   "cell_type": "code",
   "execution_count": null,
   "metadata": {},
   "outputs": [],
   "source": [
    "from statsmodels.tsa.statespace.sarimax import SARIMAX\n",
    "from pmdarima.arima import auto_arima, ARIMA"
   ]
  },
  {
   "cell_type": "markdown",
   "metadata": {},
   "source": [
    "## ----- Machine Learning and Data Analysis -----"
   ]
  },
  {
   "cell_type": "code",
   "execution_count": null,
   "metadata": {},
   "outputs": [],
   "source": [
    "import pandas as pd\n",
    "import numpy as np\n",
    "from sklearn.preprocessing import StandardScaler, LabelEncoder\n",
    "from sklearn.model_selection import train_test_split, GridSearchCV\n",
    "from sklearn.linear_model import LinearRegression, Ridge, Lasso, ElasticNet\n",
    "from sklearn.metrics import mean_absolute_error, mean_absolute_percentage_error, mean_squared_error, r2_score\n",
    "from sklearn.ensemble import RandomForestRegressor, GradientBoostingRegressor\n",
    "from sklearn.pipeline import Pipeline\n",
    "from sklearn.decomposition import PCA\n",
    "from sklearn.tree import DecisionTreeRegressor, plot_tree\n",
    "from scipy import stats"
   ]
  },
  {
   "cell_type": "markdown",
   "metadata": {},
   "source": [
    "## ----- Data Visualization -----"
   ]
  },
  {
   "cell_type": "code",
   "execution_count": null,
   "metadata": {},
   "outputs": [],
   "source": [
    "import matplotlib.pyplot as plt\n",
    "import seaborn as sns\n",
    "import plotly.express as px"
   ]
  },
  {
   "cell_type": "markdown",
   "metadata": {},
   "source": [
    "## ----- Streamlit and Data Handling -----"
   ]
  },
  {
   "cell_type": "code",
   "execution_count": null,
   "metadata": {},
   "outputs": [],
   "source": [
    "import streamlit as st\n",
    "import pandas as pd\n",
    "import streamlit.components.v1 as c\n",
    "import requests\n",
    "import json\n",
    "from sqlalchemy import create_engine\n",
    "from dotenv import load_dotenv\n",
    "import os"
   ]
  }
 ],
 "metadata": {
  "language_info": {
   "name": "python"
  }
 },
 "nbformat": 4,
 "nbformat_minor": 2
}
