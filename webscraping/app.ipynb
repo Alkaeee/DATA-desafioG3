{
 "cells": [
  {
   "cell_type": "code",
   "execution_count": 59,
   "metadata": {},
   "outputs": [],
   "source": [
    "from seleniumwire import webdriver\n",
    "from selenium import webdriver\n",
    "from selenium.webdriver.firefox.firefox_binary import FirefoxBinary\n",
    "from selenium.webdriver.firefox.options import Options\n",
    "from selenium.webdriver.common.by import By\n",
    "\n",
    "from bs4 import BeautifulSoup as bs\n",
    "import pandas as pd\n",
    "import numpy as np\n",
    "from variables import URL, USER, PASSWORD, JAVI_CUPS"
   ]
  },
  {
   "cell_type": "code",
   "execution_count": 60,
   "metadata": {},
   "outputs": [],
   "source": [
    "df_1 = pd.DataFrame()\n",
    "driver = webdriver.Firefox()"
   ]
  },
  {
   "cell_type": "code",
   "execution_count": 63,
   "metadata": {},
   "outputs": [],
   "source": [
    "driver.get(URL)"
   ]
  },
  {
   "cell_type": "code",
   "execution_count": 64,
   "metadata": {},
   "outputs": [],
   "source": [
    "selectCompany = driver.find_element(By.NAME, \"empresaLogin\")\n",
    "selectCompany.click()"
   ]
  },
  {
   "cell_type": "code",
   "execution_count": 65,
   "metadata": {},
   "outputs": [],
   "source": [
    "selectCompanyElec = driver.find_element(By.ID, \"select_option_3\")\n",
    "selectCompanyElec.click()"
   ]
  },
  {
   "cell_type": "code",
   "execution_count": 66,
   "metadata": {},
   "outputs": [],
   "source": [
    "selectUser = driver.find_element(By.NAME, \"usuario\").send_keys(USER)"
   ]
  },
  {
   "cell_type": "code",
   "execution_count": 67,
   "metadata": {},
   "outputs": [],
   "source": [
    "selectPassword = driver.find_element(By.NAME, \"password\").send_keys(PASSWORD)\n"
   ]
  },
  {
   "cell_type": "code",
   "execution_count": 68,
   "metadata": {},
   "outputs": [],
   "source": [
    "enterButton = driver.find_element(By.XPATH, '/html/body/div[1]/div[1]/div[1]/div[1]/div[1]/div[1]/form/button').click()"
   ]
  },
  {
   "cell_type": "code",
   "execution_count": 69,
   "metadata": {},
   "outputs": [],
   "source": [
    "# Dentro de candela"
   ]
  },
  {
   "cell_type": "code",
   "execution_count": 70,
   "metadata": {},
   "outputs": [],
   "source": [
    "selectSids = driver.find_element(By.XPATH, '/html/body/div[1]/div[1]/div[1]/div[1]/div[1]/ul/li[3]/a').click()"
   ]
  },
  {
   "cell_type": "code",
   "execution_count": 71,
   "metadata": {},
   "outputs": [],
   "source": [
    "\n",
    "enterCups = driver.find_element(By.ID, \"input_6\").send_keys(JAVI_CUPS)"
   ]
  },
  {
   "cell_type": "code",
   "execution_count": 72,
   "metadata": {},
   "outputs": [],
   "source": [
    "consultButton = driver.find_element(By.XPATH, '/html/body/div[1]/div[1]/div[1]/div[1]/div[2]/div[1]/div[2]/md-tabs/md-tabs-content-wrapper/md-tab-content/div[1]/md-card/div[1]/form/div[4]/button').click()"
   ]
  },
  {
   "cell_type": "code",
   "execution_count": 73,
   "metadata": {},
   "outputs": [],
   "source": [
    "columnTable = driver.find_element(By.XPATH, '/html/body/div[1]/div[1]/div[1]/div[1]/div[2]/div[1]/div[2]/md-tabs/md-tabs-content-wrapper/md-tab-content/div[1]/md-content/md-card/md-table-container/table/thead/tr')\n",
    "dataTable = driver.find_element(By.XPATH, '/html/body/div[1]/div[1]/div[1]/div[1]/div[2]/div[1]/div[2]/md-tabs/md-tabs-content-wrapper/md-tab-content/div[1]/md-content/md-card/md-table-container/table/tbody/tr[2]')"
   ]
  },
  {
   "cell_type": "code",
   "execution_count": 74,
   "metadata": {},
   "outputs": [],
   "source": [
    "def data_info_2TD(data, columns_list):\n",
    "\n",
    "    columns_list = columnTable.text.split(\"\\n\")\n",
    "    data = dataTable.text.replace(\" KWh\", \"KWh\")\n",
    "    data = data.replace(\"KWh\", \"\")\n",
    "    data = data.split(\" \")\n",
    "\n",
    "    data[14] = ' '.join(data[14:18])\n",
    "    del data[15:18]\n",
    "\n",
    "    data_last = data[14:]\n",
    "    del data[14:]\n",
    "\n",
    "    for n0 in range(0,4):\n",
    "        data.append(0)\n",
    "\n",
    "    for d in data_last:\n",
    "        data.append(d)\n",
    "    \n",
    "    table = pd.DataFrame(data)\n",
    "    table[\"info\"] = columns_list\n",
    "    table.index = table[\"info\"]\n",
    "\n",
    "    table = table.T\n",
    "    table.drop(\"info\", inplace=True)\n",
    "\n",
    "    return table\n"
   ]
  },
  {
   "cell_type": "code",
   "execution_count": 22,
   "metadata": {},
   "outputs": [],
   "source": [
    "data = dataTable.text.replace(\" KWh\", \"KWh\")\n",
    "data = data.replace(\"KWh\", \"\")\n",
    "data = data.split(\" \")\n",
    "\n",
    "data[14] = ' '.join(data[14:18])\n",
    "del data[15:18]\n",
    "\n",
    "data_last = data[14:]\n",
    "del data[14:]\n",
    "\n",
    "for n0 in range(0,4):\n",
    "    data.append(0)\n",
    "\n",
    "for d in data_last:\n",
    "    data.append(d)"
   ]
  },
  {
   "cell_type": "code",
   "execution_count": 75,
   "metadata": {},
   "outputs": [],
   "source": [
    "table = data_info_2TD(dataTable, columnTable)"
   ]
  },
  {
   "cell_type": "code",
   "execution_count": 76,
   "metadata": {},
   "outputs": [
    {
     "data": {
      "text/html": [
       "<div>\n",
       "<style scoped>\n",
       "    .dataframe tbody tr th:only-of-type {\n",
       "        vertical-align: middle;\n",
       "    }\n",
       "\n",
       "    .dataframe tbody tr th {\n",
       "        vertical-align: top;\n",
       "    }\n",
       "\n",
       "    .dataframe thead th {\n",
       "        text-align: right;\n",
       "    }\n",
       "</style>\n",
       "<table border=\"1\" class=\"dataframe\">\n",
       "  <thead>\n",
       "    <tr style=\"text-align: right;\">\n",
       "      <th>info</th>\n",
       "      <th>Cups</th>\n",
       "      <th>Municipio</th>\n",
       "      <th>Provincia</th>\n",
       "      <th>Código Postal</th>\n",
       "      <th>Tarifa</th>\n",
       "      <th>Consumo anual</th>\n",
       "      <th>Consumo anual P1</th>\n",
       "      <th>Consumo anual P2</th>\n",
       "      <th>Consumo anual P3</th>\n",
       "      <th>Consumo anual P4</th>\n",
       "      <th>...</th>\n",
       "      <th>P2</th>\n",
       "      <th>P3</th>\n",
       "      <th>P4</th>\n",
       "      <th>P5</th>\n",
       "      <th>P6</th>\n",
       "      <th>Distribuidora</th>\n",
       "      <th>Último Cambio Comercializadora</th>\n",
       "      <th>Último Cambio BIE</th>\n",
       "      <th>Tensión</th>\n",
       "      <th>Último Cambio Contrato</th>\n",
       "    </tr>\n",
       "  </thead>\n",
       "  <tbody>\n",
       "    <tr>\n",
       "      <th>0</th>\n",
       "      <td>ES0022000006250162PZ</td>\n",
       "      <td>Madrid</td>\n",
       "      <td>Madrid</td>\n",
       "      <td>28011</td>\n",
       "      <td>2.0TD</td>\n",
       "      <td>2.103</td>\n",
       "      <td>502</td>\n",
       "      <td>472</td>\n",
       "      <td>1129</td>\n",
       "      <td>0</td>\n",
       "      <td>...</td>\n",
       "      <td>4,6</td>\n",
       "      <td>0</td>\n",
       "      <td>0</td>\n",
       "      <td>0</td>\n",
       "      <td>0</td>\n",
       "      <td>UNION FENOSA DISTRIBUCION, S.A.</td>\n",
       "      <td>30/06/2009</td>\n",
       "      <td>27/05/2003</td>\n",
       "      <td>1X230</td>\n",
       "      <td>01/06/2021</td>\n",
       "    </tr>\n",
       "  </tbody>\n",
       "</table>\n",
       "<p>1 rows × 23 columns</p>\n",
       "</div>"
      ],
      "text/plain": [
       "info                  Cups Municipio Provincia Código Postal Tarifa  \\\n",
       "0     ES0022000006250162PZ    Madrid    Madrid         28011  2.0TD   \n",
       "\n",
       "info Consumo anual Consumo anual P1 Consumo anual P2 Consumo anual P3  \\\n",
       "0            2.103              502              472             1129   \n",
       "\n",
       "info Consumo anual P4  ...   P2 P3 P4 P5 P6                    Distribuidora  \\\n",
       "0                   0  ...  4,6  0  0  0  0  UNION FENOSA DISTRIBUCION, S.A.   \n",
       "\n",
       "info Último Cambio Comercializadora Último Cambio BIE Tensión  \\\n",
       "0                        30/06/2009        27/05/2003   1X230   \n",
       "\n",
       "info Último Cambio Contrato  \n",
       "0                01/06/2021  \n",
       "\n",
       "[1 rows x 23 columns]"
      ]
     },
     "execution_count": 76,
     "metadata": {},
     "output_type": "execute_result"
    }
   ],
   "source": [
    "table"
   ]
  },
  {
   "cell_type": "code",
   "execution_count": null,
   "metadata": {},
   "outputs": [],
   "source": []
  }
 ],
 "metadata": {
  "kernelspec": {
   "display_name": "Python 3",
   "language": "python",
   "name": "python3"
  },
  "language_info": {
   "codemirror_mode": {
    "name": "ipython",
    "version": 3
   },
   "file_extension": ".py",
   "mimetype": "text/x-python",
   "name": "python",
   "nbconvert_exporter": "python",
   "pygments_lexer": "ipython3",
   "version": "3.11.4"
  }
 },
 "nbformat": 4,
 "nbformat_minor": 2
}
